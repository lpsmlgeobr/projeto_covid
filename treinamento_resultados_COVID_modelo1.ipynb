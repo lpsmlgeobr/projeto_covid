{
 "cells": [
  {
   "cell_type": "code",
   "execution_count": null,
   "metadata": {
    "colab": {},
    "colab_type": "code",
    "id": "IoGS1RK1v_jI"
   },
   "outputs": [],
   "source": [
    "# 1º Passo – Importar as bibliotecas que serão utilizadas\n",
    "\n",
    "from tensorflow.keras.preprocessing.image import ImageDataGenerator\n",
    "from tensorflow.keras.layers import Dropout\n",
    "from tensorflow.keras.layers import MaxPooling2D\n",
    "from tensorflow.keras.layers import Conv2D\n",
    "from tensorflow.keras.layers import Flatten\n",
    "from tensorflow.keras.layers import Input\n",
    "from tensorflow.keras.layers import AveragePooling2D\n",
    "from tensorflow.keras.layers import Dense\n",
    "from tensorflow.keras.optimizers import Adam\n",
    "from tensorflow.keras.models import Model\n",
    "from tensorflow.keras.applications import VGG16\n",
    "from sklearn.preprocessing import LabelBinarizer\n",
    "from tensorflow.keras.utils import to_categorical\n",
    "from sklearn.metrics import confusion_matrix\n",
    "from sklearn.model_selection import train_test_split\n",
    "from sklearn.metrics import classification_report\n",
    "from sklearn.model_selection import train_test_split\n",
    "from imutils import paths\n",
    "import matplotlib.pyplot as plt\n",
    "from sklearn.metrics import confusion_matrix\n",
    "import argparse\n",
    "import pandas as pd\n",
    "import cv2\n",
    "import numpy as np\n",
    "import os\n",
    "import seaborn as sn\n",
    "%matplotlib inline"
   ]
  },
  {
   "cell_type": "code",
   "execution_count": null,
   "metadata": {
    "colab": {},
    "colab_type": "code",
    "id": "CXwTGiPpwg-s"
   },
   "outputs": [],
   "source": [
    "# 2º Passo – Carregar os arrays construídos na etapa referente ao pré-processamento de dados e normalizar os dados do input\n",
    "\n",
    "X_train = np.load(\"/content/drive/My Drive/Python/COVID/Arrays/X_Train.npy\")\n",
    "X_train = X_train/255\n",
    "\n",
    "Y_train = np.load(\"/content/drive/My Drive/Python/COVID/Arrays/Y_Train.npy\")"
   ]
  },
  {
   "cell_type": "code",
   "execution_count": null,
   "metadata": {
    "colab": {
     "base_uri": "https://localhost:8080/",
     "height": 51
    },
    "colab_type": "code",
    "executionInfo": {
     "elapsed": 1049,
     "status": "ok",
     "timestamp": 1586864942619,
     "user": {
      "displayName": "César Soares",
      "photoUrl": "https://lh3.googleusercontent.com/a-/AOh14GjnCuTGeBsi0P9nLHQXzmAvmSU4ekinz51pT1mltQ=s64",
      "userId": "03845423099530420401"
     },
     "user_tz": 180
    },
    "id": "1RKojXsDxAkB",
    "outputId": "2515a25c-73b8-4182-c844-8cc3f326d148"
   },
   "outputs": [],
   "source": [
    "# 3º Passo – Dividir os dados em dados de treinamento e dados de teste\n",
    "\n",
    "X_train,X_test,Y_train,Y_test = train_test_split(X_train,Y_train, test_size = 0.2, random_state = 40)\n",
    "\n",
    "print(f\"X_train shape: {X_train.shape} Y_train shape {Y_train.shape}\")\n",
    "print(f\"X_test shape: {X_test.shape} Y_test shape {Y_test.shape}\")"
   ]
  },
  {
   "cell_type": "code",
   "execution_count": null,
   "metadata": {
    "colab": {
     "base_uri": "https://localhost:8080/",
     "height": 71
    },
    "colab_type": "code",
    "executionInfo": {
     "elapsed": 8582,
     "status": "ok",
     "timestamp": 1586864957585,
     "user": {
      "displayName": "César Soares",
      "photoUrl": "https://lh3.googleusercontent.com/a-/AOh14GjnCuTGeBsi0P9nLHQXzmAvmSU4ekinz51pT1mltQ=s64",
      "userId": "03845423099530420401"
     },
     "user_tz": 180
    },
    "id": "T9b0A-R_yPvu",
    "outputId": "5c23f91f-69bc-412c-bf24-f481aa3e6f09"
   },
   "outputs": [],
   "source": [
    "# 4º Passo – Determinando a arquitetura do modelo que será treinado\n",
    "\n",
    "bModel = VGG16(weights=\"imagenet\", include_top=False,\n",
    "\tinput_tensor=Input(shape=(237, 237, 3)))\n",
    "\n",
    "tModel = bModel.output\n",
    "tModel = AveragePooling2D(pool_size=(4, 4))(tModel)\n",
    "tModel = Flatten(name=\"flatten\")(tModel)\n",
    "tModel = Dense(64, activation=\"relu\")(tModel)\n",
    "tModel = Dropout(0.2)(tModel)\n",
    "tModel = Dense(1, activation=\"sigmoid\")(tModel)\n",
    "\n",
    "model = Model(inputs=bModel.input, outputs=tModel)"
   ]
  },
  {
   "cell_type": "code",
   "execution_count": null,
   "metadata": {
    "colab": {},
    "colab_type": "code",
    "id": "bMDJX0paylb4"
   },
   "outputs": [],
   "source": [
    "# 5º Passo – Determinar os hyperparameters e compilar o modelo\n",
    "\n",
    "INIT_LR = 1e-3\n",
    "EPOCHS = 50\n",
    "BS = 8\n",
    "\n",
    "for layer in bModel.layers:\n",
    "\tlayer.trainable = False\n",
    "\n",
    "opt = Adam(lr=INIT_LR)\n",
    "model.compile(loss=\"binary_crossentropy\", optimizer=opt,\n",
    "\tmetrics=[\"accuracy\"])"
   ]
  },
  {
   "cell_type": "code",
   "execution_count": null,
   "metadata": {
    "colab": {
     "base_uri": "https://localhost:8080/",
     "height": 1000
    },
    "colab_type": "code",
    "executionInfo": {
     "elapsed": 64169,
     "status": "ok",
     "timestamp": 1586865031874,
     "user": {
      "displayName": "César Soares",
      "photoUrl": "https://lh3.googleusercontent.com/a-/AOh14GjnCuTGeBsi0P9nLHQXzmAvmSU4ekinz51pT1mltQ=s64",
      "userId": "03845423099530420401"
     },
     "user_tz": 180
    },
    "id": "fXEHkwQ4y-bw",
    "outputId": "313925dd-c8ad-4263-e721-cddd977227bc"
   },
   "outputs": [],
   "source": [
    "# 6º Passo – Treinar o modelo\n",
    "\n",
    "X = model.fit(X_train, Y_train, batch_size=BS,validation_split=0.1, epochs=EPOCHS)\n",
    "\n",
    "model.save(\"/content/drive/My Drive/Python/COVID/model/modeloc_1.hdf5\")"
   ]
  },
  {
   "cell_type": "code",
   "execution_count": null,
   "metadata": {
    "colab": {
     "base_uri": "https://localhost:8080/",
     "height": 607
    },
    "colab_type": "code",
    "executionInfo": {
     "elapsed": 2991,
     "status": "ok",
     "timestamp": 1586865051760,
     "user": {
      "displayName": "César Soares",
      "photoUrl": "https://lh3.googleusercontent.com/a-/AOh14GjnCuTGeBsi0P9nLHQXzmAvmSU4ekinz51pT1mltQ=s64",
      "userId": "03845423099530420401"
     },
     "user_tz": 180
    },
    "id": "s996fVhN0Bba",
    "outputId": "9a2bdbb2-aad6-4dc8-ba8c-9bc466433903"
   },
   "outputs": [],
   "source": [
    "# 7º Passo – Observar a acurácia do modelo e a função de perda\n",
    "\n",
    "plt.plot(X.history['accuracy'])\n",
    "plt.plot(X.history['val_accuracy'])\n",
    "plt.title('model accuracy')\n",
    "plt.ylabel('accuracy')\n",
    "plt.xlabel('epoch')\n",
    "plt.legend(['train', 'validation'], loc='upper left')\n",
    "plt.show()\n",
    "\n",
    "plt.plot(X.history['loss'])\n",
    "plt.plot(X.history['val_loss'])\n",
    "plt.title('model loss')\n",
    "plt.ylabel('loss')\n",
    "plt.xlabel('epoch')\n",
    "plt.legend(['train', 'validation'], loc='upper left')\n",
    "plt.show()\n",
    "\n",
    "model.evaluate(X_test,Y_test)"
   ]
  },
  {
   "cell_type": "code",
   "execution_count": null,
   "metadata": {
    "colab": {
     "base_uri": "https://localhost:8080/",
     "height": 893
    },
    "colab_type": "code",
    "executionInfo": {
     "elapsed": 9796,
     "status": "ok",
     "timestamp": 1586865114582,
     "user": {
      "displayName": "César Soares",
      "photoUrl": "https://lh3.googleusercontent.com/a-/AOh14GjnCuTGeBsi0P9nLHQXzmAvmSU4ekinz51pT1mltQ=s64",
      "userId": "03845423099530420401"
     },
     "user_tz": 180
    },
    "id": "ONo53UaLXq2U",
    "outputId": "837e6e20-c7fb-4c26-83f7-3e045b165955"
   },
   "outputs": [],
   "source": [
    "# 8º Passo – Observar quais imagens o modelo acertou\n",
    "\n",
    "plt.figure(figsize=(20,20))\n",
    "i = 0\n",
    "for i,image in enumerate(X_test):\n",
    "    plt.subplot(7,9,i+1)\n",
    "    plt.xticks([])\n",
    "    plt.yticks([])\n",
    "    plt.grid(False)\n",
    "    plt.imshow(image, cmap=plt.cm.binary)\n",
    "    img = np.expand_dims(X_test[i],axis = 0)\n",
    "    x_pred = model.predict(img)[0]\n",
    "    x0 = x_pred[0]\n",
    "    \n",
    "    if x0 > 0.5:\n",
    "      label = \"COVID\"\n",
    "    else:\n",
    "      label = \"NORMAL\"\n",
    "    \n",
    "    if Y_test[i] == 1:\n",
    "      label_test = \"COVID\"\n",
    "    else:\n",
    "      label_test = \"NORMAL\"\n",
    "    plt.xlabel(f\"Label Predict = {label} \\n Label Correct = {label_test}\")\n",
    "    i += 1\n",
    "plt.savefig('/content/drive/My Drive/Python/COVID/model/modelo_1.pdf')\n"
   ]
  },
  {
   "cell_type": "code",
   "execution_count": null,
   "metadata": {
    "colab": {
     "base_uri": "https://localhost:8080/",
     "height": 428
    },
    "colab_type": "code",
    "executionInfo": {
     "elapsed": 1659,
     "status": "ok",
     "timestamp": 1586866201907,
     "user": {
      "displayName": "César Soares",
      "photoUrl": "https://lh3.googleusercontent.com/a-/AOh14GjnCuTGeBsi0P9nLHQXzmAvmSU4ekinz51pT1mltQ=s64",
      "userId": "03845423099530420401"
     },
     "user_tz": 180
    },
    "id": "YhZcU8hUc8n2",
    "outputId": "ee12298e-c6b1-44e2-963c-678a5aa951e3"
   },
   "outputs": [],
   "source": [
    "# 9º Passo – Construir uma matriz de confusão\n",
    "\n",
    "ypredict = model.predict(X_test)\n",
    "\n",
    "ypredictc = []\n",
    "\n",
    "for value in ypredict:\n",
    "  x0 = value [0]\n",
    "  # x1 = value [1]\n",
    "  if x0 > 0.5:\n",
    "    ypredictc.append(1)\n",
    "\n",
    "  else:\n",
    "    ypredictc.append(0)\n",
    "\n",
    "resultado = np.array(ypredictc)\n",
    "\n",
    "\n",
    "\n",
    "x = confusion_matrix(y_true=Y_test,y_pred=resultado)\n",
    "x = x/X_test.shape[0]\n",
    "\n",
    "y = pd.DataFrame(x,index = [\"NORMAL\",\"COVID\"],columns=[\"NORMAL\",\"COVID\"])\n",
    "plt.figure(figsize = (10,7))\n",
    "\n",
    "fig = sn.heatmap(y, annot=True,cmap=\"Greens\").get_figure()\n",
    "fig.savefig(\"plot.jpg\") "
   ]
  },
  {
   "cell_type": "code",
   "execution_count": null,
   "metadata": {
    "colab": {},
    "colab_type": "code",
    "id": "1J4hVYFAiliN"
   },
   "outputs": [],
   "source": []
  }
 ],
 "metadata": {
  "accelerator": "GPU",
  "colab": {
   "collapsed_sections": [],
   "name": "Untitled0.ipynb",
   "provenance": []
  },
  "kernelspec": {
   "display_name": "Python 3",
   "language": "python",
   "name": "python3"
  },
  "language_info": {
   "codemirror_mode": {
    "name": "ipython",
    "version": 3
   },
   "file_extension": ".py",
   "mimetype": "text/x-python",
   "name": "python",
   "nbconvert_exporter": "python",
   "pygments_lexer": "ipython3",
   "version": "3.7.3"
  }
 },
 "nbformat": 4,
 "nbformat_minor": 1
}
