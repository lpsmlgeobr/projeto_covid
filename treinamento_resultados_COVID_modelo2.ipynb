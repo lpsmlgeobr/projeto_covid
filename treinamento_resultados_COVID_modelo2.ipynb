{
 "cells": [
  {
   "cell_type": "code",
   "execution_count": null,
   "metadata": {
    "colab": {},
    "colab_type": "code",
    "id": "IoGS1RK1v_jI"
   },
   "outputs": [],
   "source": [
    "# 1º Passo – Importar as bibliotecas que serão utilizadas\n",
    "\n",
    "from tensorflow.keras.preprocessing.image import ImageDataGenerator\n",
    "from tensorflow.keras.applications import VGG16\n",
    "from tensorflow.keras.applications import Xception\n",
    "from tensorflow.keras.applications import ResNet50V2\n",
    "from tensorflow.keras.layers import AveragePooling2D\n",
    "from tensorflow.keras.layers import MaxPooling2D\n",
    "from tensorflow.keras.layers import Dropout\n",
    "from tensorflow.keras.layers import Flatten\n",
    "from tensorflow.keras.layers import Conv2D\n",
    "from tensorflow.keras.layers import Dense\n",
    "from tensorflow.keras.callbacks import ReduceLROnPlateau\n",
    "from tensorflow.keras.layers import Input\n",
    "from tensorflow.keras.models import Model\n",
    "from tensorflow.keras.optimizers import Adam\n",
    "from tensorflow.keras.utils import to_categorical\n",
    "from sklearn.preprocessing import LabelBinarizer\n",
    "from sklearn.model_selection import train_test_split\n",
    "from sklearn.metrics import classification_report\n",
    "from sklearn.metrics import confusion_matrix\n",
    "from imutils import paths\n",
    "import matplotlib.pyplot as plt\n",
    "import numpy as np\n",
    "import argparse\n",
    "import cv2\n",
    "import os\n",
    "from sklearn.model_selection import train_test_split\n",
    "from sklearn.metrics import confusion_matrix\n",
    "import pandas as pd\n",
    "import seaborn as sn\n",
    "%matplotlib inline"
   ]
  },
  {
   "cell_type": "code",
   "execution_count": null,
   "metadata": {
    "colab": {},
    "colab_type": "code",
    "id": "CXwTGiPpwg-s"
   },
   "outputs": [],
   "source": [
    "# 2º Passo – Carregar os arrays construídos na etapa referente ao pré-processamento de dados e normalizar os dados do input\n",
    "\n",
    "X_train = np.load(\"/content/drive/My Drive/Python/COVID/Arrays/Modelo2/X_Train.npy\")\n",
    "X_train = X_train/255\n",
    "\n",
    "Y_train = np.load(\"/content/drive/My Drive/Python/COVID/Arrays/Modelo2/Y_Train.npy\")"
   ]
  },
  {
   "cell_type": "code",
   "execution_count": null,
   "metadata": {
    "colab": {
     "base_uri": "https://localhost:8080/",
     "height": 51
    },
    "colab_type": "code",
    "executionInfo": {
     "elapsed": 726,
     "status": "ok",
     "timestamp": 1587496628086,
     "user": {
      "displayName": "César Soares",
      "photoUrl": "https://lh3.googleusercontent.com/a-/AOh14GjnCuTGeBsi0P9nLHQXzmAvmSU4ekinz51pT1mltQ=s64",
      "userId": "03845423099530420401"
     },
     "user_tz": 180
    },
    "id": "1RKojXsDxAkB",
    "outputId": "adb8a407-c862-4250-a7d1-5171add8ceaf"
   },
   "outputs": [],
   "source": [
    "# 3º Passo – Dividir os dados em dados de treinamento e dados de teste\n",
    "\n",
    "X_train,X_test,Y_train,Y_test = train_test_split(X_train,Y_train, test_size = 0.2, random_state = 40)\n",
    "\n",
    "print(f\"X_train shape: {X_train.shape} Y_train shape {Y_train.shape}\")\n",
    "print(f\"X_test shape: {X_test.shape} Y_test shape {Y_test.shape}\")"
   ]
  },
  {
   "cell_type": "code",
   "execution_count": null,
   "metadata": {
    "colab": {},
    "colab_type": "code",
    "id": "T9b0A-R_yPvu"
   },
   "outputs": [],
   "source": [
    "# 4º Passo – Determinando a arquitetura do modelo (Xception) que será treinado\n",
    "\n",
    "bModel = Xception(weights=\"imagenet\", include_top=False,\n",
    "        input_tensor=Input(shape=(237, 237, 3)))\n",
    "tModel = bModel.output\n",
    "tModel = AveragePooling2D(pool_size=(2, 2))(tModel)\n",
    "tModel = Flatten(name=\"flatten\")(tModel)\n",
    "tModel = Dense(20, activation=\"relu\")(tModel)\n",
    "tModel = Dropout(0.2)(tModel)\n",
    "tModel = Dense(3, activation=\"softmax\")(tModel)\n",
    "\n",
    "model = Model(inputs=bModel.input, outputs=tModel)"
   ]
  },
  {
   "cell_type": "code",
   "execution_count": null,
   "metadata": {},
   "outputs": [],
   "source": [
    "# 5º Passo – Determinar os hyperparameters e compilar o modelo (Xception)\n",
    "\n",
    "INIT_LR = 1e-3\n",
    "EPOCHS = 80\n",
    "BS = 15\n",
    "\n",
    "for layer in bModel.layers:\n",
    "    layer.trainable = False\n",
    "\n",
    "opt = Adam(lr=INIT_LR)\n",
    "model.compile(loss=\"categorical_crossentropy\", optimizer=opt,\n",
    "    metrics=[\"accuracy\"])"
   ]
  },
  {
   "cell_type": "code",
   "execution_count": null,
   "metadata": {},
   "outputs": [],
   "source": [
    "# 6º Passo – Treinar o modelo (Xception)\n",
    "\n",
    "from tensorflow.keras.callbacks import ReduceLROnPlateau\n",
    "reduce_lr = ReduceLROnPlateau(monitor='val_loss', factor=0.2,\n",
    "                              patience=5, min_lr=0.001, cooldown=5)\n",
    "\n",
    "x = model.fit(X_train, Y_train, batch_size=BS,validation_split=0.1, epochs=EPOCHS,callbacks=[reduce_lr])\n",
    "\n",
    "model.save(\"/content/drive/My Drive/Python/COVID/model/modeloc_2.hdf5\")"
   ]
  },
  {
   "cell_type": "code",
   "execution_count": null,
   "metadata": {},
   "outputs": [],
   "source": [
    "# 7º Passo - Observar a acurácia do modelo (Xception) e a função de perda\n",
    "\n",
    "plt.plot(x.history['accuracy'])\n",
    "plt.plot(x.history['val_accuracy'])\n",
    "plt.title('model accuracy')\n",
    "plt.ylabel('accuracy')\n",
    "plt.xlabel('epoch')\n",
    "plt.legend(['train', 'validation'], loc='upper left')\n",
    "plt.show()\n",
    "\n",
    "plt.plot(x.history['loss'])\n",
    "plt.plot(x.history['val_loss'])\n",
    "plt.title('model loss')\n",
    "plt.ylabel('loss')\n",
    "plt.xlabel('epoch')\n",
    "plt.legend(['train', 'validation'], loc='upper left')\n",
    "plt.show()\n",
    "\n",
    "model.evaluate(X_test,Y_test)"
   ]
  },
  {
   "cell_type": "code",
   "execution_count": null,
   "metadata": {},
   "outputs": [],
   "source": [
    "# 8º Passo – Determinando a arquitetura do modelo (ResNet50V2) que será treinado\n",
    "\n",
    "bModel = ResNet50V2(weights=\"imagenet\", include_top=False,\n",
    "        input_tensor=Input(shape=(237, 237, 3)))\n",
    "tModel = bModel.output\n",
    "tModel = AveragePooling2D(pool_size=(2, 2))(tModel)\n",
    "tModel = Flatten(name=\"flatten\")(tModel)\n",
    "tModel = Dense(20, activation=\"relu\")(tModel)\n",
    "tModel = Dropout(0.2)(tModel)\n",
    "tModel = Dense(3, activation=\"softmax\")(tModel)\n",
    "\n",
    "model = Model(inputs=bModel.input, outputs=tModel)"
   ]
  },
  {
   "cell_type": "code",
   "execution_count": null,
   "metadata": {},
   "outputs": [],
   "source": [
    "# 9º Passo – Determinar os hyperparameters e compilar o modelo (ResNet50V2)\n",
    "\n",
    "INIT_LR = 1e-3\n",
    "EPOCHS = 80\n",
    "BS = 15\n",
    "\n",
    "for layer in bModel.layers:\n",
    "\tlayer.trainable = False\n",
    "\n",
    "opt = Adam(lr=INIT_LR)\n",
    "model.compile(loss=\"categorical_crossentropy\", optimizer=opt,\n",
    "\tmetrics=[\"accuracy\"])"
   ]
  },
  {
   "cell_type": "code",
   "execution_count": null,
   "metadata": {},
   "outputs": [],
   "source": [
    "# 10º Passo – Treinar o modelo (ResNet50V2)\n",
    "\n",
    "from tensorflow.keras.callbacks import ReduceLROnPlateau\n",
    "reduce_lr = ReduceLROnPlateau(monitor='val_loss', factor=0.2,\n",
    "                              patience=5, min_lr=0.001, cooldown=5)\n",
    "\n",
    "x = model.fit(X_train, Y_train, batch_size=BS,validation_split=0.1, epochs=EPOCHS,callbacks=[reduce_lr])\n",
    "\n",
    "model.save(\"/content/drive/My Drive/Python/COVID/model/modeloc_2.hdf5\")"
   ]
  },
  {
   "cell_type": "code",
   "execution_count": null,
   "metadata": {},
   "outputs": [],
   "source": [
    "# 11º Passo - Observar a acurácia do modelo (ResNet50V2) e a função de perda\n",
    "\n",
    "plt.plot(x.history['accuracy'])\n",
    "plt.plot(x.history['val_accuracy'])\n",
    "plt.title('model accuracy')\n",
    "plt.ylabel('accuracy')\n",
    "plt.xlabel('epoch')\n",
    "plt.legend(['train', 'validation'], loc='upper left')\n",
    "plt.show()\n",
    "\n",
    "plt.plot(x.history['loss'])\n",
    "plt.plot(x.history['val_loss'])\n",
    "plt.title('model loss')\n",
    "plt.ylabel('loss')\n",
    "plt.xlabel('epoch')\n",
    "plt.legend(['train', 'validation'], loc='upper left')\n",
    "plt.show()\n",
    "\n",
    "model.evaluate(X_test,Y_test)"
   ]
  },
  {
   "cell_type": "code",
   "execution_count": null,
   "metadata": {},
   "outputs": [],
   "source": [
    "# 12º Passo – Determinando a arquitetura (VGG16) do modelo que será treinado\n",
    "\n",
    "bModel = VGG16(weights=\"imagenet\", include_top=False,classes=3,\n",
    "        input_tensor=Input(shape=(237, 237, 3)))\n",
    "tModel = bModel.output\n",
    "tModel = AveragePooling2D(pool_size=(2, 2))(tModel)\n",
    "tModel = Flatten(name=\"flatten\")(tModel)\n",
    "tModel = Dense(20, activation=\"relu\")(tModel)\n",
    "tModel = Dropout(0.2)(tModel)\n",
    "tModel = Dense(3, activation=\"softmax\")(tModel)\n",
    "\n",
    "model = Model(inputs=bModel.input, outputs=tModel)"
   ]
  },
  {
   "cell_type": "code",
   "execution_count": null,
   "metadata": {
    "colab": {},
    "colab_type": "code",
    "id": "bMDJX0paylb4"
   },
   "outputs": [],
   "source": [
    "# 13º Passo – Determinar os hyperparameters e compilar o modelo (VGG16)\n",
    "\n",
    "INIT_LR = 1e-3\n",
    "EPOCHS = 80\n",
    "BS = 15\n",
    "\n",
    "for layer in bModel.layers:\n",
    "\tlayer.trainable = False\n",
    "\n",
    "opt = Adam(lr=INIT_LR)\n",
    "model.compile(loss=\"categorical_crossentropy\", optimizer=opt,\n",
    "\tmetrics=[\"accuracy\"])"
   ]
  },
  {
   "cell_type": "code",
   "execution_count": null,
   "metadata": {
    "colab": {
     "base_uri": "https://localhost:8080/",
     "height": 1000
    },
    "colab_type": "code",
    "executionInfo": {
     "elapsed": 96997,
     "status": "ok",
     "timestamp": 1587496742305,
     "user": {
      "displayName": "César Soares",
      "photoUrl": "https://lh3.googleusercontent.com/a-/AOh14GjnCuTGeBsi0P9nLHQXzmAvmSU4ekinz51pT1mltQ=s64",
      "userId": "03845423099530420401"
     },
     "user_tz": 180
    },
    "id": "fXEHkwQ4y-bw",
    "outputId": "c749a8d2-9930-44ba-d265-cba28f25d372"
   },
   "outputs": [],
   "source": [
    "# 14º Passo – Treinar o modelo (VGG16)\n",
    "\n",
    "reduce_lr = ReduceLROnPlateau(monitor='val_loss', factor=0.2,\n",
    "                              patience=5, min_lr=0.001, cooldown=5)\n",
    "\n",
    "x = model.fit(X_train, Y_train, batch_size=BS,validation_split=0.1, epochs=EPOCHS,callbacks=[reduce_lr])\n",
    "\n",
    "model.save(\"/content/drive/My Drive/Python/COVID/model/modeloc_2.hdf5\")"
   ]
  },
  {
   "cell_type": "code",
   "execution_count": null,
   "metadata": {
    "colab": {
     "base_uri": "https://localhost:8080/",
     "height": 607
    },
    "colab_type": "code",
    "executionInfo": {
     "elapsed": 2344,
     "status": "ok",
     "timestamp": 1587496758950,
     "user": {
      "displayName": "César Soares",
      "photoUrl": "https://lh3.googleusercontent.com/a-/AOh14GjnCuTGeBsi0P9nLHQXzmAvmSU4ekinz51pT1mltQ=s64",
      "userId": "03845423099530420401"
     },
     "user_tz": 180
    },
    "id": "s996fVhN0Bba",
    "outputId": "c89b6c22-1641-4b2c-b111-99823f4cefb2"
   },
   "outputs": [],
   "source": [
    "# 15º Passo – Observar a acurácia do modelo (VGG16) e a função de perda\n",
    "\n",
    "plt.plot(x.history['accuracy'])\n",
    "plt.plot(x.history['val_accuracy'])\n",
    "plt.title('model accuracy')\n",
    "plt.ylabel('accuracy')\n",
    "plt.xlabel('epoch')\n",
    "plt.legend(['train', 'validation'], loc='upper left')\n",
    "plt.show()\n",
    "\n",
    "plt.plot(x.history['loss'])\n",
    "plt.plot(x.history['val_loss'])\n",
    "plt.title('model loss')\n",
    "plt.ylabel('loss')\n",
    "plt.xlabel('epoch')\n",
    "plt.legend(['train', 'validation'], loc='upper left')\n",
    "plt.show()\n",
    "\n",
    "model.evaluate(X_test,Y_test)"
   ]
  },
  {
   "cell_type": "code",
   "execution_count": null,
   "metadata": {
    "colab": {
     "base_uri": "https://localhost:8080/",
     "height": 1000
    },
    "colab_type": "code",
    "executionInfo": {
     "elapsed": 8527,
     "status": "ok",
     "timestamp": 1587398056105,
     "user": {
      "displayName": "César Soares",
      "photoUrl": "https://lh3.googleusercontent.com/a-/AOh14GjnCuTGeBsi0P9nLHQXzmAvmSU4ekinz51pT1mltQ=s64",
      "userId": "03845423099530420401"
     },
     "user_tz": 180
    },
    "id": "ONo53UaLXq2U",
    "outputId": "4369dd70-e75c-419a-900a-88a526cfb7ac"
   },
   "outputs": [],
   "source": [
    "# 16º Passo – Observar quais imagens o modelo (VGG16) acertou\n",
    "\n",
    "plt.figure(figsize=(20,20))\n",
    "plt.subplots_adjust(left=None, bottom=None, right=None, top=None, wspace=2.0, hspace=2.0)\n",
    "i = 0\n",
    "for i,image in enumerate(X_test):\n",
    "    plt.subplot(9,9,i+1)\n",
    "    plt.xticks([])\n",
    "    plt.yticks([])\n",
    "    plt.grid(False)\n",
    "    plt.imshow(image, cmap=plt.cm.binary)\n",
    "    img = np.expand_dims(X_test[i],axis = 0)\n",
    "    x_pred = model.predict(img)[0]\n",
    "    pred_covid = x_pred[0]\n",
    "   \n",
    "    pred_normal = x_pred[1]\n",
    "\n",
    "    pred_infeccoes = x_pred[2]\n",
    "    \n",
    "    \n",
    "    if pred_covid > pred_normal and pred_covid > pred_infeccoes:\n",
    "      label = \"COVID\"\n",
    "    elif pred_normal > pred_covid and pred_normal > pred_infeccoes:\n",
    "      label = \"NORMAL\"\n",
    "    elif pred_infeccoes > pred_covid and pred_infeccoes > pred_normal:\n",
    "      label = \"INFECÇÕES\"\n",
    "     \n",
    "    \n",
    "    if Y_test[i][0] == 1:\n",
    "      label_test = \"COVID\"\n",
    "    elif Y_test[i][1] == 1:\n",
    "      label_test = \"NORMAL\"\n",
    "    elif Y_test[i][2] == 1:\n",
    "      label_test = \"INFECÇÕES\"\n",
    "    plt.xlabel(f\"Label Predict = {label} \\n Label Correct = {label_test}\")\n",
    "    i += 1\n",
    "plt.savefig('/content/drive/My Drive/Python/COVID/model/modelo_2.pdf')\n"
   ]
  },
  {
   "cell_type": "code",
   "execution_count": null,
   "metadata": {
    "colab": {},
    "colab_type": "code",
    "id": "q-6ORBcKgQEd"
   },
   "outputs": [],
   "source": []
  }
 ],
 "metadata": {
  "accelerator": "GPU",
  "colab": {
   "collapsed_sections": [],
   "name": "treinamento_resultados_COVID_modelo2.ipynb",
   "provenance": []
  },
  "kernelspec": {
   "display_name": "Python 3",
   "language": "python",
   "name": "python3"
  },
  "language_info": {
   "codemirror_mode": {
    "name": "ipython",
    "version": 3
   },
   "file_extension": ".py",
   "mimetype": "text/x-python",
   "name": "python",
   "nbconvert_exporter": "python",
   "pygments_lexer": "ipython3",
   "version": "3.7.3"
  }
 },
 "nbformat": 4,
 "nbformat_minor": 1
}
