{
 "cells": [
  {
   "cell_type": "code",
   "execution_count": null,
   "metadata": {
    "colab": {},
    "colab_type": "code",
    "id": "fDrquiw6azhb"
   },
   "outputs": [],
   "source": [
    "#1º Passo – Importar as bibliotecas que serão utilizadas\n",
    "\n",
    "import pandas as pd\n",
    "import os\n",
    "from PIL import Image\n",
    "import numpy as np\n",
    "import cv2"
   ]
  },
  {
   "cell_type": "code",
   "execution_count": null,
   "metadata": {
    "colab": {},
    "colab_type": "code",
    "id": "jLKfWaedazhi"
   },
   "outputs": [],
   "source": [
    "#2º Passo – Carregar o dataframe referente às imagens de pulmões de indivíduos com COVID-19:\n",
    "\n",
    "df = pd.read_csv(\"/Users/cesarsoares/Documents/Python/COVID/Banco_de_Dados/covid-chestxray-dataset-master/metadata.csv\")"
   ]
  },
  {
   "cell_type": "code",
   "execution_count": null,
   "metadata": {
    "colab": {
     "base_uri": "https://localhost:8080/",
     "height": 221
    },
    "colab_type": "code",
    "executionInfo": {
     "elapsed": 586,
     "status": "ok",
     "timestamp": 1586651145940,
     "user": {
      "displayName": "César Soares",
      "photoUrl": "https://lh3.googleusercontent.com/a-/AOh14GjnCuTGeBsi0P9nLHQXzmAvmSU4ekinz51pT1mltQ=s64",
      "userId": "03845423099530420401"
     },
     "user_tz": 180
    },
    "id": "Ir5AvYQGazhm",
    "outputId": "83632ea1-a1d6-468a-98eb-fb0466c35972"
   },
   "outputs": [],
   "source": [
    "#3º Passo – Análise do dataframe “df”\n",
    "df.finding.value_counts()"
   ]
  },
  {
   "cell_type": "code",
   "execution_count": null,
   "metadata": {
    "colab": {},
    "colab_type": "code",
    "id": "jcpjduOTazhs"
   },
   "outputs": [],
   "source": [
    "# 4º Passo – Selecionar os casos relacionados à COVID-19 no dataframe “df”\n",
    "df_covid = df[df[\"finding\"] == \"COVID-19\"]"
   ]
  },
  {
   "cell_type": "code",
   "execution_count": null,
   "metadata": {
    "colab": {
     "base_uri": "https://localhost:8080/",
     "height": 204
    },
    "colab_type": "code",
    "executionInfo": {
     "elapsed": 566,
     "status": "ok",
     "timestamp": 1586651152081,
     "user": {
      "displayName": "César Soares",
      "photoUrl": "https://lh3.googleusercontent.com/a-/AOh14GjnCuTGeBsi0P9nLHQXzmAvmSU4ekinz51pT1mltQ=s64",
      "userId": "03845423099530420401"
     },
     "user_tz": 180
    },
    "id": "yIU-2eMqazhx",
    "outputId": "f2ecca09-285a-4c5f-a793-5e56ad30f9f0"
   },
   "outputs": [],
   "source": [
    "# 5º Passo – Análise do dataframe “df_covid”\n",
    "\n",
    "df_covid[[\"finding\",\"filename\"]].tail()"
   ]
  },
  {
   "cell_type": "code",
   "execution_count": null,
   "metadata": {
    "colab": {},
    "colab_type": "code",
    "id": "ctt6aFjMazh1"
   },
   "outputs": [],
   "source": [
    "# 6º Passo – Criar uma lista para adicionar os valores da variável/coluna “filename”\n",
    "\n",
    "imagensCOVID = df_covid[\"filename\"].tolist()"
   ]
  },
  {
   "cell_type": "code",
   "execution_count": null,
   "metadata": {
    "colab": {
     "base_uri": "https://localhost:8080/",
     "height": 34
    },
    "colab_type": "code",
    "executionInfo": {
     "elapsed": 592,
     "status": "ok",
     "timestamp": 1586651321306,
     "user": {
      "displayName": "César Soares",
      "photoUrl": "https://lh3.googleusercontent.com/a-/AOh14GjnCuTGeBsi0P9nLHQXzmAvmSU4ekinz51pT1mltQ=s64",
      "userId": "03845423099530420401"
     },
     "user_tz": 180
    },
    "id": "l8-Fv4lgazh5",
    "outputId": "656d7699-48fc-48c9-840b-69e7f516fb7b"
   },
   "outputs": [],
   "source": [
    "# 7º Passo – Criar uma lista apenas com os formatos de imagens que existem na pasta de imagem\n",
    "imagensCovid = []\n",
    "for imagem in imagensCOVID:\n",
    "    if imagem.endswith(\".gz\"):\n",
    "        pass\n",
    "    else:\n",
    "        imagensCovid.append(imagem)\n",
    "        \n",
    "print(len(imagensCovid))"
   ]
  },
  {
   "cell_type": "code",
   "execution_count": null,
   "metadata": {},
   "outputs": [],
   "source": [
    "# 8º Passo – Criar uma função para abrir as imagens, observar as suas dimensões e, posteriormente, salvar estes dados em um dataframe\n",
    "\n",
    "def df_dimensao(folder_das_imagens, lista_nome_imagens):\n",
    "    \"\"\"Função para criar um dataframe com as dimensões originais das imagens de uma determinada pasta.\n",
    "    \n",
    "    Parâmetros:\n",
    "    \n",
    "    folder_das_imagens(str)\n",
    "    lista_nome_imagens(list)\n",
    "    \n",
    "    return\n",
    "    \n",
    "    df_dims(pd.DataFrame)\n",
    "    \n",
    "    \"\"\"\n",
    "    \n",
    "    dic = {}\n",
    "    dimensaoImagensLargura = []\n",
    "    dimensaoImagensAltura = []\n",
    "    nome = []\n",
    "    \n",
    "    if \".DS_Store\" in lista_nome_imagens:\n",
    "        lista_nome_imagens.remove(\".DS_Store\")\n",
    "    for imagem in lista_nome_imagens:\n",
    "        \n",
    "        enderecoDaImagem = folder_das_imagens + \"/\" + imagem\n",
    "        abrirImagem = Image.open(enderecoDaImagem)\n",
    "        nome.append(imagem)\n",
    "        dimensaoImagensLargura.append(abrirImagem.size[0])\n",
    "        dimensaoImagensAltura.append(abrirImagem.size[1])\n",
    "\n",
    "    dic[\"nome\"] = nome\n",
    "    dic[\"largura\"] = dimensaoImagensLargura\n",
    "    dic[\"altura\"] = dimensaoImagensAltura\n",
    "    df_dims = pd.DataFrame(dic)\n",
    "    \n",
    "    return df_dims"
   ]
  },
  {
   "cell_type": "code",
   "execution_count": null,
   "metadata": {
    "colab": {},
    "colab_type": "code",
    "id": "PyMOjxmUaziM"
   },
   "outputs": [],
   "source": [
    "# 9º Passo – Criar uma variável que contenha como valor o endereço da pasta onde as imagens estão salvas\n",
    "\n",
    "rootFolder = \"/Users/cesarsoares/Documents/Python/COVID/Banco_de_Dados/covid-chestxray-dataset-master/images\""
   ]
  },
  {
   "cell_type": "code",
   "execution_count": null,
   "metadata": {},
   "outputs": [],
   "source": [
    "# 10º Passo – Utilizar a função criada para observar a dimensão das imagens\n",
    "\n",
    "dimensao = df_dimensao(rootFolder, imagensCovid)\n",
    "print(dimensao)"
   ]
  },
  {
   "cell_type": "code",
   "execution_count": null,
   "metadata": {
    "colab": {},
    "colab_type": "code",
    "id": "XuMwkBRqazik"
   },
   "outputs": [],
   "source": [
    "# 11º Passo – Converter todas as imagens para 237 x 237px .png\n",
    "\n",
    "for imagem in imagensCovid:\n",
    "    enderecoDaImagem = rootFolder + \"/\" + imagem\n",
    "    abrirImagem = Image.open(enderecoDaImagem)\n",
    "    image_resize = abrirImagem.resize((237,237))\n",
    "    os.chdir(\"/Users/cesarsoares/Documents/Python/COVID/Banco_de_Dados/covid-chestxray-dataset-master/images/images_resize\")\n",
    "    image_resize.save(f'{imagem}_resize_237_237.png')\n",
    "    \n",
    "    \n",
    "rootFolder = \"/Users/cesarsoares/Documents/Python/COVID/Banco_de_Dados/covid-chestxray-dataset-master/images/images_resize\"\n",
    "imagensDaPastaResize = os.listdir(\"/Users/cesarsoares/Documents/Python/COVID/Banco_de_Dados/covid-chestxray-dataset-master/images/images_resize\")\n",
    "df_redimensao = df_dimensao(rootFolder, imagensDaPastaResize)\n",
    "print(df_redimensao)"
   ]
  },
  {
   "cell_type": "code",
   "execution_count": null,
   "metadata": {},
   "outputs": [],
   "source": [
    "# 12º Passo – Criar uma lista com as imagens que serão deletadas da pasta\n",
    "\n",
    "listaImagemDeletar = os.listdir(\"/Users/cesarsoares/Documents/Python/COVID/Banco_de_Dados/covid-chestxray-dataset-master/deletadas\")\n",
    "listaImagemDeletar = ['covid-19-pneumonia-30-L.jpg_resize_237_237.png',\n",
    " '396A81A5-982C-44E9-A57E-9B1DC34E2C08.jpeg_resize_237_237.png',\n",
    " 'covid-19-infection-exclusive-gastrointestinal-symptoms-l.png_resize_237_237.png',\n",
    " 'nejmoa2001191_f3-L.jpeg_resize_237_237.png',\n",
    " '3ED3C0E1-4FE0-4238-8112-DDFF9E20B471.jpeg_resize_237_237.png',\n",
    " 'covid-19-pneumonia-38-l.jpg_resize_237_237.png',\n",
    " 'a1a7d22e66f6570df523e0077c6a5a_jumbo.jpeg_resize_237_237.png',\n",
    " '254B82FC-817D-4E2F-AB6E-1351341F0E38.jpeg_resize_237_237.png',\n",
    " 'covid-19-pneumonia-15-L.jpg_resize_237_237.png',\n",
    " 'kjr-21-e24-g002-l-b.jpg_resize_237_237.png',\n",
    " 'D5ACAA93-C779-4E22-ADFA-6A220489F840.jpeg_resize_237_237.png',\n",
    " 'kjr-21-e24-g002-l-c.jpg_resize_237_237.png',\n",
    " 'covid-19-pneumonia-14-L.png_resize_237_237.png',\n",
    " 'kjr-21-e24-g004-l-a.jpg_resize_237_237.png',\n",
    " 'nejmoa2001191_f1-L.jpeg_resize_237_237.png',\n",
    " 'kjr-21-e24-g003-l-b.jpg_resize_237_237.png',\n",
    " 'kjr-21-e24-g004-l-b.jpg_resize_237_237.png',\n",
    " 'DE488FE1-0C44-428B-B67A-09741C1214C0.jpeg_resize_237_237.png',\n",
    " '191F3B3A-2879-4EF3-BE56-EE0D2B5AAEE3.jpeg_resize_237_237.png',\n",
    " '35AF5C3B-D04D-4B4B-92B7-CB1F67D83085.jpeg_resize_237_237.png',\n",
    " '6A7D4110-2BFC-4D9A-A2D6-E9226D91D25A.jpeg_resize_237_237.png',\n",
    " '4C4DEFD8-F55D-4588-AAD6-C59017F55966.jpeg_resize_237_237.png',\n",
    " 'covid-19-caso-70-1-L.jpg_resize_237_237.png',\n",
    " '44C8E3D6-20DA-42E9-B33B-96FA6D6DE12F.jpeg_resize_237_237.png',\n",
    " 'kjr-21-e24-g001-l-b.jpg_resize_237_237.png',\n",
    " 'FC230FE2-1DDF-40EB-AA0D-21F950933289.jpeg_resize_237_237.png',\n",
    " '1-s2.0-S0929664620300449-gr3_lrg-a.jpg_resize_237_237.png',\n",
    " '925446AE-B3C7-4C93-941B-AC4D2FE1F455.jpeg_resize_237_237.png',\n",
    " 'jkms-35-e79-g001-l-e.jpg_resize_237_237.png',\n",
    " '1-s2.0-S0929664620300449-gr3_lrg-b.jpg_resize_237_237.png',\n",
    " '21DDEBFD-7F16-4E3E-8F90-CB1B8EE82828.jpeg_resize_237_237.png',\n",
    " 'covid-19-pneumonia-evolution-over-a-week-1-day0-L.jpg_resize_237_237.png',\n",
    " '1-s2.0-S0929664620300449-gr3_lrg-d.jpg_resize_237_237.png',\n",
    " '1-s2.0-S0929664620300449-gr3_lrg-c.jpg_resize_237_237.png',\n",
    " 'nejmoa2001191_f5-L.jpeg_resize_237_237.png',\n",
    " 'jkms-35-e79-g001-l-d.jpg_resize_237_237.png',\n",
    " 'covid-19-pneumonia-22-day1-l.png_resize_237_237.png',\n",
    " 'kjr-21-e24-g001-l-c.jpg_resize_237_237.png',\n",
    " '66298CBF-6F10-42D5-A688-741F6AC84A76.jpeg_resize_237_237.png',\n",
    " 'covid-19-pneumonia-20-l-on-admission.jpg_resize_237_237.png',\n",
    " 'covid-19-pneumonia-7-L.jpg_resize_237_237.png']"
   ]
  },
  {
   "cell_type": "code",
   "execution_count": null,
   "metadata": {
    "colab": {},
    "colab_type": "code",
    "id": "jvZLily7azi1"
   },
   "outputs": [],
   "source": [
    "# 13º Passo – Abrir as imagens de pulmões de indivíduos sem infecção e criar uma lista com o nome das imagens que existem na pasta de imagem\n",
    "\n",
    "pastaTreinoNormal = \"/Users/cesarsoares/Documents/Python/COVID/Banco_de_Dados/chest_xray/train/NORMAL\"\n",
    "\n",
    "listaImagensTreino = os.listdir(pastaTreinoNormal)"
   ]
  },
  {
   "cell_type": "code",
   "execution_count": null,
   "metadata": {
    "colab": {},
    "colab_type": "code",
    "id": "jeh9be09azi8",
    "outputId": "2812125b-786d-4e5e-f6ca-06a99f0355ab"
   },
   "outputs": [],
   "source": [
    "# 14º Passo – Converter todas as imagens de pulmões de indivíduos não infectados para 237 x 237px .png\n",
    "\n",
    "listaCemImagens = listaImagensTreino[0:100]\n",
    "for imagem in listaCemImagens:\n",
    "    enderecoDaImagem = \"/Users/cesarsoares/Documents/Python/COVID/Banco_de_Dados/chest_xray/train/NORMAL\"+ \"/\" + imagem\n",
    "    abrirImagem = Image.open(enderecoDaImagem)\n",
    "    image_resize = abrirImagem.resize((237,237))\n",
    "    os.chdir(\"/Users/cesarsoares/Documents/Python/COVID/Banco_de_Dados/chest_xray/train/NORMAL/images_resize_normal\")\n",
    "    image_resize.save(f'{imagem}_resize_237_237.png')\n",
    "\n",
    "rootFolder = \"/Users/cesarsoares/Documents/Python/COVID/Banco_de_Dados/chest_xray/train/NORMAL/images_resize_normal\"\n",
    "imagensDaPastaResize = os.listdir(\"/Users/cesarsoares/Documents/Python/COVID/Banco_de_Dados/chest_xray/train/NORMAL/images_resize_normal\")\n",
    "df_redimensao = df_dimensao(rootFolder, imagensDaPastaResize)\n",
    "print(df_redimensao)"
   ]
  },
  {
   "cell_type": "code",
   "execution_count": null,
   "metadata": {
    "colab": {},
    "colab_type": "code",
    "id": "wLC8A2N-azjG"
   },
   "outputs": [],
   "source": [
    "# 15º Passo – Abrir as imagens dos pulmões de indivíduos infectados com COVID-19 em uma lista e transformar estas em um array (matriz de valores dos pixels que representam a imagem)\n",
    "\n",
    "imagensCovid = os.listdir(\"/Users/cesarsoares/Documents/Python/COVID/Banco_de_Dados/covid-chestxray-dataset-master/images/images_resize\")\n",
    "imagensCovid = [x for x in imagensCovid if x not in listaImagemDeletar]\n",
    "\n",
    "if \".DS_Store\" in imagensCovid:\n",
    "    imagensCovid.remove(\".DS_Store\")\n",
    "\n",
    "xTrainCovid = []\n",
    "\n",
    "for image in imagensCovid:\n",
    "    x = cv2.imread(\"/Users/cesarsoares/Documents/Python/COVID/Banco_de_Dados/covid-chestxray-dataset-master/images/images_resize/\" + image)\n",
    "    x = np.array(x)\n",
    "    xTrainCovid.append(x)\n",
    "\n",
    "xArrayCOVID = np.array(xTrainCovid)\n",
    "print(xArrayCOVID.shape)\n"
   ]
  },
  {
   "cell_type": "code",
   "execution_count": null,
   "metadata": {},
   "outputs": [],
   "source": [
    "# 16º Passo – Abrir as imagens dos pulmões de indivíduos sem infecções em uma lista e transformar estas em um array (matriz de valores dos pixels que representam a imagem)\n",
    "\n",
    "imagensNormal = os.listdir(\"/Users/cesarsoares/Documents/Python/COVID/Banco_de_Dados/chest_xray/train/NORMAL/images_resize_normal\")\n",
    "\n",
    "if \".DS_Store\" in imagensNormal:\n",
    "    imagensNormal.remove(\".DS_Store\")\n",
    "\n",
    "xTrainNormal = []\n",
    "\n",
    "for image in imagensNormal:\n",
    "    x = cv2.imread(\"/Users/cesarsoares/Documents/Python/COVID/Banco_de_Dados/chest_xray/train/NORMAL/images_resize_normal/\" + image)\n",
    "    x = np.array(x)\n",
    "    xTrainNormal.append(x)\n",
    "\n",
    "xArrayNormal = np.array(xTrainNormal)\n",
    "print(xArrayNormal.shape)\n",
    "    "
   ]
  },
  {
   "cell_type": "code",
   "execution_count": null,
   "metadata": {},
   "outputs": [],
   "source": [
    "# 17º Passo – Agrupar os arrays em um único array contendo informações sobre as imagens de COVID-19 e normal\n",
    "\n",
    "X_train = np.vstack((xArrayCOVID,xArrayNormal))"
   ]
  },
  {
   "cell_type": "code",
   "execution_count": null,
   "metadata": {},
   "outputs": [],
   "source": [
    "# 18º Passo – Indicar os casos que são COVID-19 e os que são normais e criar um array\n",
    "\n",
    "dfCOVID = np.ones((xArrayCOVID.shape[0],1))\n",
    "dfNormal = np.zeros((xArrayNormal.shape[0],1))\n",
    "\n",
    "Y_train = np.vstack((dfCOVID,dfNormal))"
   ]
  },
  {
   "cell_type": "code",
   "execution_count": null,
   "metadata": {},
   "outputs": [],
   "source": [
    "# 19º Passo – Salvar os arrays em .npy\n",
    "\n",
    "np.save(\"/Users/cesarsoares/Documents/Python/COVID/X_Train.npy\",X_train)\n",
    "np.save(\"/Users/cesarsoares/Documents/Python/COVID/Y_Train.npy\", Y_train)"
   ]
  },
  {
   "cell_type": "code",
   "execution_count": null,
   "metadata": {},
   "outputs": [],
   "source": []
  }
 ],
 "metadata": {
  "colab": {
   "collapsed_sections": [],
   "name": "EDA - COVID.ipynb",
   "provenance": []
  },
  "kernelspec": {
   "display_name": "Python 3",
   "language": "python",
   "name": "python3"
  },
  "language_info": {
   "codemirror_mode": {
    "name": "ipython",
    "version": 3
   },
   "file_extension": ".py",
   "mimetype": "text/x-python",
   "name": "python",
   "nbconvert_exporter": "python",
   "pygments_lexer": "ipython3",
   "version": "3.7.3"
  }
 },
 "nbformat": 4,
 "nbformat_minor": 1
}
