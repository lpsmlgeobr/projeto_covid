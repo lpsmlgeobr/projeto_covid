{
 "cells": [
  {
   "cell_type": "code",
   "execution_count": null,
   "metadata": {},
   "outputs": [],
   "source": [
    "#1º Passo – Importar as bibliotecas que serão utilizadas\n",
    "\n",
    "from gradcam import GradCAM\n",
    "from PIL import Image\n",
    "from tensorflow.keras.applications import VGG16\n",
    "from tensorflow.keras.preprocessing.image import img_to_array\n",
    "from tensorflow.keras.preprocessing.image import load_img\n",
    "from tensorflow.keras.applications import imagenet_utils\n",
    "import numpy as np\n",
    "import argparse\n",
    "import imutils\n",
    "import cv2\n",
    "from google.colab.patches import cv2_imshow"
   ]
  },
  {
   "cell_type": "code",
   "execution_count": null,
   "metadata": {},
   "outputs": [],
   "source": [
    "#2º Passo – Carregar os arrays construídos na etapa referente ao pré-processamento de dados do Modelo 2 e dividir os dados em dados de treinamento e dados de teste\n",
    "\n",
    "X_train = np.load(\"/content/drive/My Drive/Python/COVID/Arrays/Modelo2/X_Train.npy\")\n",
    "\n",
    "Y_train = np.load(\"/content/drive/My Drive/Python/COVID/Arrays/Modelo2/Y_Train.npy\")\n",
    "\n",
    "X_train,X_test,Y_train,Y_test = train_test_split(X_train,Y_train, test_size = 0.2, random_state = 40)"
   ]
  },
  {
   "cell_type": "code",
   "execution_count": null,
   "metadata": {},
   "outputs": [],
   "source": [
    "#3º Passo – Construir e salvar o mapa de ativação de classe (CAM)\n",
    "for image in range(X_test.shape[0]):\n",
    "  img = Image.fromarray(X_test[image])\n",
    "  img.save(f\"imagens_{image}.png\")\n",
    "\n",
    "\n",
    "for array in range(X_test.shape[0]):\n",
    "  orig = cv2.imread(f\"imagens_{array}.png\")\n",
    "  orig = cv2.resize(orig, (237, 237))\n",
    "  image = load_img((f\"imagens_{array}.png\"), target_size=(237, 237))\n",
    "  image = img_to_array(image)\n",
    "  image = image/255\n",
    "  image = np.expand_dims(image, axis=0)\n",
    "  preds = model.predict(image)\n",
    "  i = np.argmax(preds[0])\n",
    "  if i == 0:\n",
    "    label = f\"COVID-19: {int(preds[0][i] * 100)}%\"\n",
    "  elif i == 1:\n",
    "    label = f\"NORMAL: {int(preds[0][i] * 100)}%\"\n",
    "  else:\n",
    "    label = f\"O.INF. : {int(preds[0][i] * 100)}%\"\n",
    "  print(\"[INFO] {}\".format(label))\n",
    "  cam = GradCAM(model, i)\n",
    "\n",
    "\n",
    "  heatmap = cam.compute_heatmap(image)\n",
    "  heatmap = cv2.resize(heatmap, (orig.shape[1], orig.shape[0]))\n",
    "  (heatmap, output) = cam.overlay_heatmap(heatmap, orig, alpha=0.5)\n",
    "  cv2.rectangle(output, (0, 0), (340, 40), (0, 0, 0), -1)\n",
    "  cv2.putText(output, label, (10, 25), cv2.FONT_HERSHEY_SIMPLEX,0.8, (255, 255, 255), 2)\n",
    "  # #output = np.vstack([orig, heatmap, output])\n",
    "  output = np.vstack([output])\n",
    "\n",
    "  print(orig.shape,heatmap.shape,output.shape)\n",
    "\n",
    "  # #output = imutils.resize(output, height=700)\n",
    "  print(output.shape)\n",
    "  cv2_imshow(output)\n",
    "  cv2.imwrite(f\"/content/drive/My Drive/Python/COVID/Arrays/Modelo2/image_{array}.png\",output)\n",
    "  # #cv2.waitKey(0)"
   ]
  }
 ],
 "metadata": {
  "kernelspec": {
   "display_name": "Python 3",
   "language": "python",
   "name": "python3"
  },
  "language_info": {
   "codemirror_mode": {
    "name": "ipython",
    "version": 3
   },
   "file_extension": ".py",
   "mimetype": "text/x-python",
   "name": "python",
   "nbconvert_exporter": "python",
   "pygments_lexer": "ipython3",
   "version": "3.7.7"
  }
 },
 "nbformat": 4,
 "nbformat_minor": 4
}
